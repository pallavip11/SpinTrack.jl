{
 "cells": [
  {
   "cell_type": "code",
   "execution_count": 1,
   "id": "f6548ddd-118b-4b3f-910c-684897b2a6a5",
   "metadata": {},
   "outputs": [],
   "source": [
    "using SpinTrack\n",
    "using Plots"
   ]
  },
  {
   "cell_type": "code",
   "execution_count": 2,
   "id": "104b79bd-9e73-4e9c-ac5e-30e424306b2b",
   "metadata": {},
   "outputs": [
    {
     "data": {
      "text/plain": [
       "Plots.PyPlotBackend()"
      ]
     },
     "execution_count": 2,
     "metadata": {},
     "output_type": "execute_result"
    }
   ],
   "source": [
    "# You need to install PyPlot package\n",
    "# Optional line\n",
    "pyplot(thickness_scaling=1.2)"
   ]
  },
  {
   "cell_type": "markdown",
   "id": "199e7746-419d-473b-ac35-b12f6f68023b",
   "metadata": {},
   "source": [
    "# Definition of beta functions"
   ]
  },
  {
   "cell_type": "code",
   "execution_count": null,
   "id": "6ced657f-e6b9-4e4a-968b-579f49c9f7be",
   "metadata": {},
   "outputs": [],
   "source": []
  }
 ],
 "metadata": {
  "kernelspec": {
   "display_name": "Julia 1.6.5",
   "language": "julia",
   "name": "julia-1.6"
  },
  "language_info": {
   "file_extension": ".jl",
   "mimetype": "application/julia",
   "name": "julia",
   "version": "1.6.5"
  }
 },
 "nbformat": 4,
 "nbformat_minor": 5
}
